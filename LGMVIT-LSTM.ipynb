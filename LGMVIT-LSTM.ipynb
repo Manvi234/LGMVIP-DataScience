{
 "cells": [
  {
   "cell_type": "markdown",
   "id": "b7a6e663",
   "metadata": {},
   "source": [
    "# LMGVIP- STOCK MARKET PREDICTION AND FORECASTING USING LSTM"
   ]
  },
  {
   "cell_type": "markdown",
   "id": "f4e7951e",
   "metadata": {},
   "source": [
    "## Importing important libraries"
   ]
  },
  {
   "cell_type": "code",
   "execution_count": 1,
   "id": "29a36805",
   "metadata": {},
   "outputs": [],
   "source": [
    "import numpy as np\n",
    "import pandas as pd\n",
    "import matplotlib.pyplot as plt\n",
    "%matplotlib inline\n",
    "import warnings\n",
    "warnings.filterwarnings('ignore')"
   ]
  },
  {
   "cell_type": "code",
   "execution_count": 2,
   "id": "b6356cbf",
   "metadata": {},
   "outputs": [],
   "source": [
    "df = pd.read_csv('https://raw.githubusercontent.com/mwitiderrick/stockprice/master/NSE-TATAGLOBAL.csv')"
   ]
  },
  {
   "cell_type": "markdown",
   "id": "a6d4e73c",
   "metadata": {},
   "source": [
    "## Data Exploration "
   ]
  },
  {
   "cell_type": "code",
   "execution_count": 3,
   "id": "b7fd6b96",
   "metadata": {},
   "outputs": [
    {
     "data": {
      "text/html": [
       "<div>\n",
       "<style scoped>\n",
       "    .dataframe tbody tr th:only-of-type {\n",
       "        vertical-align: middle;\n",
       "    }\n",
       "\n",
       "    .dataframe tbody tr th {\n",
       "        vertical-align: top;\n",
       "    }\n",
       "\n",
       "    .dataframe thead th {\n",
       "        text-align: right;\n",
       "    }\n",
       "</style>\n",
       "<table border=\"1\" class=\"dataframe\">\n",
       "  <thead>\n",
       "    <tr style=\"text-align: right;\">\n",
       "      <th></th>\n",
       "      <th>Date</th>\n",
       "      <th>Open</th>\n",
       "      <th>High</th>\n",
       "      <th>Low</th>\n",
       "      <th>Last</th>\n",
       "      <th>Close</th>\n",
       "      <th>Total Trade Quantity</th>\n",
       "      <th>Turnover (Lacs)</th>\n",
       "    </tr>\n",
       "  </thead>\n",
       "  <tbody>\n",
       "    <tr>\n",
       "      <th>0</th>\n",
       "      <td>2018-09-28</td>\n",
       "      <td>234.05</td>\n",
       "      <td>235.95</td>\n",
       "      <td>230.20</td>\n",
       "      <td>233.50</td>\n",
       "      <td>233.75</td>\n",
       "      <td>3069914</td>\n",
       "      <td>7162.35</td>\n",
       "    </tr>\n",
       "    <tr>\n",
       "      <th>1</th>\n",
       "      <td>2018-09-27</td>\n",
       "      <td>234.55</td>\n",
       "      <td>236.80</td>\n",
       "      <td>231.10</td>\n",
       "      <td>233.80</td>\n",
       "      <td>233.25</td>\n",
       "      <td>5082859</td>\n",
       "      <td>11859.95</td>\n",
       "    </tr>\n",
       "    <tr>\n",
       "      <th>2</th>\n",
       "      <td>2018-09-26</td>\n",
       "      <td>240.00</td>\n",
       "      <td>240.00</td>\n",
       "      <td>232.50</td>\n",
       "      <td>235.00</td>\n",
       "      <td>234.25</td>\n",
       "      <td>2240909</td>\n",
       "      <td>5248.60</td>\n",
       "    </tr>\n",
       "    <tr>\n",
       "      <th>3</th>\n",
       "      <td>2018-09-25</td>\n",
       "      <td>233.30</td>\n",
       "      <td>236.75</td>\n",
       "      <td>232.00</td>\n",
       "      <td>236.25</td>\n",
       "      <td>236.10</td>\n",
       "      <td>2349368</td>\n",
       "      <td>5503.90</td>\n",
       "    </tr>\n",
       "    <tr>\n",
       "      <th>4</th>\n",
       "      <td>2018-09-24</td>\n",
       "      <td>233.55</td>\n",
       "      <td>239.20</td>\n",
       "      <td>230.75</td>\n",
       "      <td>234.00</td>\n",
       "      <td>233.30</td>\n",
       "      <td>3423509</td>\n",
       "      <td>7999.55</td>\n",
       "    </tr>\n",
       "  </tbody>\n",
       "</table>\n",
       "</div>"
      ],
      "text/plain": [
       "         Date    Open    High     Low    Last   Close  Total Trade Quantity  \\\n",
       "0  2018-09-28  234.05  235.95  230.20  233.50  233.75               3069914   \n",
       "1  2018-09-27  234.55  236.80  231.10  233.80  233.25               5082859   \n",
       "2  2018-09-26  240.00  240.00  232.50  235.00  234.25               2240909   \n",
       "3  2018-09-25  233.30  236.75  232.00  236.25  236.10               2349368   \n",
       "4  2018-09-24  233.55  239.20  230.75  234.00  233.30               3423509   \n",
       "\n",
       "   Turnover (Lacs)  \n",
       "0          7162.35  \n",
       "1         11859.95  \n",
       "2          5248.60  \n",
       "3          5503.90  \n",
       "4          7999.55  "
      ]
     },
     "execution_count": 3,
     "metadata": {},
     "output_type": "execute_result"
    }
   ],
   "source": [
    "df.head()"
   ]
  },
  {
   "cell_type": "code",
   "execution_count": 4,
   "id": "0bf8bfa1",
   "metadata": {},
   "outputs": [
    {
     "data": {
      "text/html": [
       "<div>\n",
       "<style scoped>\n",
       "    .dataframe tbody tr th:only-of-type {\n",
       "        vertical-align: middle;\n",
       "    }\n",
       "\n",
       "    .dataframe tbody tr th {\n",
       "        vertical-align: top;\n",
       "    }\n",
       "\n",
       "    .dataframe thead th {\n",
       "        text-align: right;\n",
       "    }\n",
       "</style>\n",
       "<table border=\"1\" class=\"dataframe\">\n",
       "  <thead>\n",
       "    <tr style=\"text-align: right;\">\n",
       "      <th></th>\n",
       "      <th>Date</th>\n",
       "      <th>Open</th>\n",
       "      <th>High</th>\n",
       "      <th>Low</th>\n",
       "      <th>Last</th>\n",
       "      <th>Close</th>\n",
       "      <th>Total Trade Quantity</th>\n",
       "      <th>Turnover (Lacs)</th>\n",
       "    </tr>\n",
       "  </thead>\n",
       "  <tbody>\n",
       "    <tr>\n",
       "      <th>2030</th>\n",
       "      <td>2010-07-27</td>\n",
       "      <td>117.6</td>\n",
       "      <td>119.50</td>\n",
       "      <td>112.00</td>\n",
       "      <td>118.80</td>\n",
       "      <td>118.65</td>\n",
       "      <td>586100</td>\n",
       "      <td>694.98</td>\n",
       "    </tr>\n",
       "    <tr>\n",
       "      <th>2031</th>\n",
       "      <td>2010-07-26</td>\n",
       "      <td>120.1</td>\n",
       "      <td>121.00</td>\n",
       "      <td>117.10</td>\n",
       "      <td>117.10</td>\n",
       "      <td>117.60</td>\n",
       "      <td>658440</td>\n",
       "      <td>780.01</td>\n",
       "    </tr>\n",
       "    <tr>\n",
       "      <th>2032</th>\n",
       "      <td>2010-07-23</td>\n",
       "      <td>121.8</td>\n",
       "      <td>121.95</td>\n",
       "      <td>120.25</td>\n",
       "      <td>120.35</td>\n",
       "      <td>120.65</td>\n",
       "      <td>281312</td>\n",
       "      <td>340.31</td>\n",
       "    </tr>\n",
       "    <tr>\n",
       "      <th>2033</th>\n",
       "      <td>2010-07-22</td>\n",
       "      <td>120.3</td>\n",
       "      <td>122.00</td>\n",
       "      <td>120.25</td>\n",
       "      <td>120.75</td>\n",
       "      <td>120.90</td>\n",
       "      <td>293312</td>\n",
       "      <td>355.17</td>\n",
       "    </tr>\n",
       "    <tr>\n",
       "      <th>2034</th>\n",
       "      <td>2010-07-21</td>\n",
       "      <td>122.1</td>\n",
       "      <td>123.00</td>\n",
       "      <td>121.05</td>\n",
       "      <td>121.10</td>\n",
       "      <td>121.55</td>\n",
       "      <td>658666</td>\n",
       "      <td>803.56</td>\n",
       "    </tr>\n",
       "  </tbody>\n",
       "</table>\n",
       "</div>"
      ],
      "text/plain": [
       "            Date   Open    High     Low    Last   Close  Total Trade Quantity  \\\n",
       "2030  2010-07-27  117.6  119.50  112.00  118.80  118.65                586100   \n",
       "2031  2010-07-26  120.1  121.00  117.10  117.10  117.60                658440   \n",
       "2032  2010-07-23  121.8  121.95  120.25  120.35  120.65                281312   \n",
       "2033  2010-07-22  120.3  122.00  120.25  120.75  120.90                293312   \n",
       "2034  2010-07-21  122.1  123.00  121.05  121.10  121.55                658666   \n",
       "\n",
       "      Turnover (Lacs)  \n",
       "2030           694.98  \n",
       "2031           780.01  \n",
       "2032           340.31  \n",
       "2033           355.17  \n",
       "2034           803.56  "
      ]
     },
     "execution_count": 4,
     "metadata": {},
     "output_type": "execute_result"
    }
   ],
   "source": [
    "df.tail()"
   ]
  },
  {
   "cell_type": "code",
   "execution_count": 5,
   "id": "80f695e7",
   "metadata": {},
   "outputs": [
    {
     "data": {
      "text/html": [
       "<div>\n",
       "<style scoped>\n",
       "    .dataframe tbody tr th:only-of-type {\n",
       "        vertical-align: middle;\n",
       "    }\n",
       "\n",
       "    .dataframe tbody tr th {\n",
       "        vertical-align: top;\n",
       "    }\n",
       "\n",
       "    .dataframe thead th {\n",
       "        text-align: right;\n",
       "    }\n",
       "</style>\n",
       "<table border=\"1\" class=\"dataframe\">\n",
       "  <thead>\n",
       "    <tr style=\"text-align: right;\">\n",
       "      <th></th>\n",
       "      <th>Open</th>\n",
       "      <th>High</th>\n",
       "      <th>Low</th>\n",
       "      <th>Last</th>\n",
       "      <th>Close</th>\n",
       "      <th>Total Trade Quantity</th>\n",
       "      <th>Turnover (Lacs)</th>\n",
       "    </tr>\n",
       "  </thead>\n",
       "  <tbody>\n",
       "    <tr>\n",
       "      <th>count</th>\n",
       "      <td>2035.000000</td>\n",
       "      <td>2035.000000</td>\n",
       "      <td>2035.000000</td>\n",
       "      <td>2035.000000</td>\n",
       "      <td>2035.00000</td>\n",
       "      <td>2.035000e+03</td>\n",
       "      <td>2035.000000</td>\n",
       "    </tr>\n",
       "    <tr>\n",
       "      <th>mean</th>\n",
       "      <td>149.713735</td>\n",
       "      <td>151.992826</td>\n",
       "      <td>147.293931</td>\n",
       "      <td>149.474251</td>\n",
       "      <td>149.45027</td>\n",
       "      <td>2.335681e+06</td>\n",
       "      <td>3899.980565</td>\n",
       "    </tr>\n",
       "    <tr>\n",
       "      <th>std</th>\n",
       "      <td>48.664509</td>\n",
       "      <td>49.413109</td>\n",
       "      <td>47.931958</td>\n",
       "      <td>48.732570</td>\n",
       "      <td>48.71204</td>\n",
       "      <td>2.091778e+06</td>\n",
       "      <td>4570.767877</td>\n",
       "    </tr>\n",
       "    <tr>\n",
       "      <th>min</th>\n",
       "      <td>81.100000</td>\n",
       "      <td>82.800000</td>\n",
       "      <td>80.000000</td>\n",
       "      <td>81.000000</td>\n",
       "      <td>80.95000</td>\n",
       "      <td>3.961000e+04</td>\n",
       "      <td>37.040000</td>\n",
       "    </tr>\n",
       "    <tr>\n",
       "      <th>25%</th>\n",
       "      <td>120.025000</td>\n",
       "      <td>122.100000</td>\n",
       "      <td>118.300000</td>\n",
       "      <td>120.075000</td>\n",
       "      <td>120.05000</td>\n",
       "      <td>1.146444e+06</td>\n",
       "      <td>1427.460000</td>\n",
       "    </tr>\n",
       "    <tr>\n",
       "      <th>50%</th>\n",
       "      <td>141.500000</td>\n",
       "      <td>143.400000</td>\n",
       "      <td>139.600000</td>\n",
       "      <td>141.100000</td>\n",
       "      <td>141.25000</td>\n",
       "      <td>1.783456e+06</td>\n",
       "      <td>2512.030000</td>\n",
       "    </tr>\n",
       "    <tr>\n",
       "      <th>75%</th>\n",
       "      <td>157.175000</td>\n",
       "      <td>159.400000</td>\n",
       "      <td>155.150000</td>\n",
       "      <td>156.925000</td>\n",
       "      <td>156.90000</td>\n",
       "      <td>2.813594e+06</td>\n",
       "      <td>4539.015000</td>\n",
       "    </tr>\n",
       "    <tr>\n",
       "      <th>max</th>\n",
       "      <td>327.700000</td>\n",
       "      <td>328.750000</td>\n",
       "      <td>321.650000</td>\n",
       "      <td>325.950000</td>\n",
       "      <td>325.75000</td>\n",
       "      <td>2.919102e+07</td>\n",
       "      <td>55755.080000</td>\n",
       "    </tr>\n",
       "  </tbody>\n",
       "</table>\n",
       "</div>"
      ],
      "text/plain": [
       "              Open         High          Low         Last       Close  \\\n",
       "count  2035.000000  2035.000000  2035.000000  2035.000000  2035.00000   \n",
       "mean    149.713735   151.992826   147.293931   149.474251   149.45027   \n",
       "std      48.664509    49.413109    47.931958    48.732570    48.71204   \n",
       "min      81.100000    82.800000    80.000000    81.000000    80.95000   \n",
       "25%     120.025000   122.100000   118.300000   120.075000   120.05000   \n",
       "50%     141.500000   143.400000   139.600000   141.100000   141.25000   \n",
       "75%     157.175000   159.400000   155.150000   156.925000   156.90000   \n",
       "max     327.700000   328.750000   321.650000   325.950000   325.75000   \n",
       "\n",
       "       Total Trade Quantity  Turnover (Lacs)  \n",
       "count          2.035000e+03      2035.000000  \n",
       "mean           2.335681e+06      3899.980565  \n",
       "std            2.091778e+06      4570.767877  \n",
       "min            3.961000e+04        37.040000  \n",
       "25%            1.146444e+06      1427.460000  \n",
       "50%            1.783456e+06      2512.030000  \n",
       "75%            2.813594e+06      4539.015000  \n",
       "max            2.919102e+07     55755.080000  "
      ]
     },
     "execution_count": 5,
     "metadata": {},
     "output_type": "execute_result"
    }
   ],
   "source": [
    "df.describe()"
   ]
  },
  {
   "cell_type": "code",
   "execution_count": 6,
   "id": "1a449f36",
   "metadata": {},
   "outputs": [
    {
     "data": {
      "text/plain": [
       "(2035, 8)"
      ]
     },
     "execution_count": 6,
     "metadata": {},
     "output_type": "execute_result"
    }
   ],
   "source": [
    "df.shape"
   ]
  },
  {
   "cell_type": "code",
   "execution_count": 7,
   "id": "c7e92168",
   "metadata": {},
   "outputs": [
    {
     "data": {
      "text/plain": [
       "Date                    0\n",
       "Open                    0\n",
       "High                    0\n",
       "Low                     0\n",
       "Last                    0\n",
       "Close                   0\n",
       "Total Trade Quantity    0\n",
       "Turnover (Lacs)         0\n",
       "dtype: int64"
      ]
     },
     "execution_count": 7,
     "metadata": {},
     "output_type": "execute_result"
    }
   ],
   "source": [
    "df.isnull().sum()"
   ]
  },
  {
   "cell_type": "markdown",
   "id": "db3c476b",
   "metadata": {},
   "source": [
    "## Data Visualization"
   ]
  },
  {
   "cell_type": "code",
   "execution_count": 8,
   "id": "02e653ea",
   "metadata": {},
   "outputs": [
    {
     "data": {
      "image/png": "[encoded data removed]",
      "text/plain": [
       "<Figure size 432x288 with 1 Axes>"
      ]
     },
     "metadata": {
      "needs_background": "light"
     },
     "output_type": "display_data"
    }
   ],
   "source": [
    "df['Date'] = pd.to_datetime(df['Date'])\n",
    "plt.plot(df['Date'],df['Open'],color = 'red')\n",
    "plt.gcf().autofmt_xdate()\n",
    "plt.xlabel('Date')\n",
    "plt.ylabel('Opening price')\n",
    "plt.show()"
   ]
  },
  {
   "cell_type": "code",
   "execution_count": 9,
   "id": "56b3fd7e",
   "metadata": {},
   "outputs": [
    {
     "data": {
      "image/png": "[encoded data removed]",
      "text/plain": [
       "<Figure size 432x288 with 1 Axes>"
      ]
     },
     "metadata": {
      "needs_background": "light"
     },
     "output_type": "display_data"
    }
   ],
   "source": [
    "plt.plot(df['Date'],df['Close'],color = 'blue')\n",
    "plt.gcf().autofmt_xdate()\n",
    "plt.xlabel('Dates')\n",
    "plt.ylabel('Closing price')\n",
    "plt.show()"
   ]
  },
  {
   "cell_type": "markdown",
   "id": "84bc5982",
   "metadata": {},
   "source": [
    "## Creating Training Dataset "
   ]
  },
  {
   "cell_type": "code",
   "execution_count": 10,
   "id": "e25e1e29",
   "metadata": {},
   "outputs": [],
   "source": [
    "training_dataset = pd.read_csv(\"https://raw.githubusercontent.com/mwitiderrick/stockprice/master/NSE-TATAGLOBAL.csv\")\n",
    "train_stock = training_dataset.iloc[:,1:2].values"
   ]
  },
  {
   "cell_type": "code",
   "execution_count": 11,
   "id": "8cd93589",
   "metadata": {},
   "outputs": [
    {
     "data": {
      "text/plain": [
       "array([[234.05],\n",
       "       [234.55],\n",
       "       [240.  ],\n",
       "       ...,\n",
       "       [121.8 ],\n",
       "       [120.3 ],\n",
       "       [122.1 ]])"
      ]
     },
     "execution_count": 11,
     "metadata": {},
     "output_type": "execute_result"
    }
   ],
   "source": [
    "train_stock"
   ]
  },
  {
   "cell_type": "markdown",
   "id": "cb9b8539",
   "metadata": {},
   "source": [
    "## Scaling the Data"
   ]
  },
  {
   "cell_type": "code",
   "execution_count": 12,
   "id": "92e522ee",
   "metadata": {},
   "outputs": [],
   "source": [
    "from sklearn.preprocessing import MinMaxScaler"
   ]
  },
  {
   "cell_type": "code",
   "execution_count": 13,
   "id": "f682cf8a",
   "metadata": {},
   "outputs": [],
   "source": [
    "scaler = MinMaxScaler(feature_range=(0, 1))"
   ]
  },
  {
   "cell_type": "code",
   "execution_count": 14,
   "id": "8d42c415",
   "metadata": {},
   "outputs": [],
   "source": [
    "scaled_data = scaler.fit_transform(df['Close'].values.reshape(-1,1))"
   ]
  },
  {
   "cell_type": "code",
   "execution_count": 15,
   "id": "a670741c",
   "metadata": {},
   "outputs": [
    {
     "data": {
      "text/plain": [
       "array([[0.62418301],\n",
       "       [0.62214052],\n",
       "       [0.62622549],\n",
       "       ...,\n",
       "       [0.1621732 ],\n",
       "       [0.16319444],\n",
       "       [0.16584967]])"
      ]
     },
     "execution_count": 15,
     "metadata": {},
     "output_type": "execute_result"
    }
   ],
   "source": [
    "scaled_data"
   ]
  },
  {
   "cell_type": "code",
   "execution_count": 16,
   "id": "10f4153e",
   "metadata": {},
   "outputs": [
    {
     "data": {
      "text/plain": [
       "2035"
      ]
     },
     "execution_count": 16,
     "metadata": {},
     "output_type": "execute_result"
    }
   ],
   "source": [
    "len(scaled_data)"
   ]
  },
  {
   "cell_type": "code",
   "execution_count": 17,
   "id": "bbbb48d7",
   "metadata": {},
   "outputs": [],
   "source": [
    "prediction_days = 65"
   ]
  },
  {
   "cell_type": "markdown",
   "id": "ce5528a8",
   "metadata": {},
   "source": [
    "## Creating Data Structure"
   ]
  },
  {
   "cell_type": "code",
   "execution_count": 18,
   "id": "feb4e698",
   "metadata": {},
   "outputs": [],
   "source": [
    "X_train = []\n",
    "y_train = []"
   ]
  },
  {
   "cell_type": "code",
   "execution_count": 19,
   "id": "36a3f58b",
   "metadata": {},
   "outputs": [],
   "source": [
    "for x in range(prediction_days,len(scaled_data)):\n",
    "    X_train.append(scaled_data[x-prediction_days:x,0])\n",
    "    y_train.append(scaled_data[x,0])\n",
    "X_train = np.array(X_train)\n",
    "y_train = np.array(y_train)"
   ]
  },
  {
   "cell_type": "code",
   "execution_count": 20,
   "id": "27bf597a",
   "metadata": {},
   "outputs": [
    {
     "data": {
      "text/plain": [
       "array([[0.62418301, 0.62214052, 0.62622549, ..., 0.74754902, 0.75428922,\n",
       "        0.76143791],\n",
       "       [0.62214052, 0.62622549, 0.63378268, ..., 0.75428922, 0.76143791,\n",
       "        0.74979575],\n",
       "       [0.62622549, 0.63378268, 0.62234477, ..., 0.76143791, 0.74979575,\n",
       "        0.73999183],\n",
       "       ...,\n",
       "       [0.19403595, 0.19444444, 0.20200163, ..., 0.15236928, 0.15400327,\n",
       "        0.14971405],\n",
       "       [0.19444444, 0.20200163, 0.19771242, ..., 0.15400327, 0.14971405,\n",
       "        0.1621732 ],\n",
       "       [0.20200163, 0.19771242, 0.19934641, ..., 0.14971405, 0.1621732 ,\n",
       "        0.16319444]])"
      ]
     },
     "execution_count": 20,
     "metadata": {},
     "output_type": "execute_result"
    }
   ],
   "source": [
    "X_train"
   ]
  },
  {
   "cell_type": "code",
   "execution_count": 21,
   "id": "737992e3",
   "metadata": {},
   "outputs": [
    {
     "data": {
      "text/plain": [
       "array([0.74979575, 0.73999183, 0.72406046, ..., 0.1621732 , 0.16319444,\n",
       "       0.16584967])"
      ]
     },
     "execution_count": 21,
     "metadata": {},
     "output_type": "execute_result"
    }
   ],
   "source": [
    "y_train"
   ]
  },
  {
   "cell_type": "code",
   "execution_count": 22,
   "id": "34ada782",
   "metadata": {},
   "outputs": [],
   "source": [
    "X_train = np.reshape(X_train,(X_train.shape[0],X_train.shape[1],1))"
   ]
  },
  {
   "cell_type": "code",
   "execution_count": 23,
   "id": "89638f91",
   "metadata": {},
   "outputs": [
    {
     "data": {
      "text/plain": [
       "array([[[0.62418301],\n",
       "        [0.62214052],\n",
       "        [0.62622549],\n",
       "        ...,\n",
       "        [0.74754902],\n",
       "        [0.75428922],\n",
       "        [0.76143791]],\n",
       "\n",
       "       [[0.62214052],\n",
       "        [0.62622549],\n",
       "        [0.63378268],\n",
       "        ...,\n",
       "        [0.75428922],\n",
       "        [0.76143791],\n",
       "        [0.74979575]],\n",
       "\n",
       "       [[0.62622549],\n",
       "        [0.63378268],\n",
       "        [0.62234477],\n",
       "        ...,\n",
       "        [0.76143791],\n",
       "        [0.74979575],\n",
       "        [0.73999183]],\n",
       "\n",
       "       ...,\n",
       "\n",
       "       [[0.19403595],\n",
       "        [0.19444444],\n",
       "        [0.20200163],\n",
       "        ...,\n",
       "        [0.15236928],\n",
       "        [0.15400327],\n",
       "        [0.14971405]],\n",
       "\n",
       "       [[0.19444444],\n",
       "        [0.20200163],\n",
       "        [0.19771242],\n",
       "        ...,\n",
       "        [0.15400327],\n",
       "        [0.14971405],\n",
       "        [0.1621732 ]],\n",
       "\n",
       "       [[0.20200163],\n",
       "        [0.19771242],\n",
       "        [0.19934641],\n",
       "        ...,\n",
       "        [0.14971405],\n",
       "        [0.1621732 ],\n",
       "        [0.16319444]]])"
      ]
     },
     "execution_count": 23,
     "metadata": {},
     "output_type": "execute_result"
    }
   ],
   "source": [
    "X_train"
   ]
  },
  {
   "cell_type": "code",
   "execution_count": 24,
   "id": "9990b46e",
   "metadata": {},
   "outputs": [],
   "source": [
    "from keras.models import Sequential \n",
    "from keras.layers import Dense\n",
    "from keras.layers import LSTM\n",
    "from keras.layers import Dropout"
   ]
  },
  {
   "cell_type": "code",
   "execution_count": 25,
   "id": "8894594d",
   "metadata": {},
   "outputs": [],
   "source": [
    "model = Sequential()"
   ]
  },
  {
   "cell_type": "code",
   "execution_count": 26,
   "id": "c1cdd17b",
   "metadata": {},
   "outputs": [],
   "source": [
    "model.add(LSTM(units=50,return_sequences=True,input_shape=(X_train.shape[1],1)))\n",
    "model.add(Dropout(0.2))\n",
    "model.add(LSTM(units = 50,return_sequences = True))\n",
    "model.add(Dropout(0.2))\n",
    "model.add(LSTM(units = 50))\n",
    "model.add(Dense(units = 1))"
   ]
  },
  {
   "cell_type": "code",
   "execution_count": 27,
   "id": "34612d9e",
   "metadata": {},
   "outputs": [],
   "source": [
    "model.compile(optimizer='rmsprop',loss='mean_squared_error')"
   ]
  },
  {
   "cell_type": "code",
   "execution_count": 28,
   "id": "280f5650",
   "metadata": {},
   "outputs": [
    {
     "name": "stdout",
     "output_type": "stream",
     "text": [
      "Epoch 1/30\n",
      "57/57 [==============================] - 11s 63ms/step - loss: 0.0085\n",
      "Epoch 2/30\n",
      "57/57 [==============================] - 4s 62ms/step - loss: 0.0034\n",
      "Epoch 3/30\n",
      "57/57 [==============================] - 4s 63ms/step - loss: 0.0025\n",
      "Epoch 4/30\n",
      "57/57 [==============================] - 4s 63ms/step - loss: 0.0021\n",
      "Epoch 5/30\n",
      "57/57 [==============================] - 4s 65ms/step - loss: 0.0023\n",
      "Epoch 6/30\n",
      "57/57 [==============================] - 4s 65ms/step - loss: 0.0017\n",
      "Epoch 7/30\n",
      "57/57 [==============================] - 4s 64ms/step - loss: 0.0016\n",
      "Epoch 8/30\n",
      "57/57 [==============================] - 4s 69ms/step - loss: 0.0014\n",
      "Epoch 9/30\n",
      "57/57 [==============================] - 5s 84ms/step - loss: 0.0013\n",
      "Epoch 10/30\n",
      "57/57 [==============================] - 4s 78ms/step - loss: 0.0014\n",
      "Epoch 11/30\n",
      "57/57 [==============================] - 4s 78ms/step - loss: 0.0013\n",
      "Epoch 12/30\n",
      "57/57 [==============================] - 4s 70ms/step - loss: 0.0011\n",
      "Epoch 13/30\n",
      "57/57 [==============================] - 4s 74ms/step - loss: 0.0011\n",
      "Epoch 14/30\n",
      "57/57 [==============================] - 4s 77ms/step - loss: 0.0011\n",
      "Epoch 15/30\n",
      "57/57 [==============================] - 5s 84ms/step - loss: 9.1972e-04\n",
      "Epoch 16/30\n",
      "57/57 [==============================] - 5s 83ms/step - loss: 9.4760e-04\n",
      "Epoch 17/30\n",
      "57/57 [==============================] - 5s 79ms/step - loss: 9.2223e-04\n",
      "Epoch 18/30\n",
      "57/57 [==============================] - 5s 82ms/step - loss: 9.0213e-04\n",
      "Epoch 19/30\n",
      "57/57 [==============================] - 4s 72ms/step - loss: 8.8289e-04\n",
      "Epoch 20/30\n",
      "57/57 [==============================] - 5s 85ms/step - loss: 8.2638e-04\n",
      "Epoch 21/30\n",
      "57/57 [==============================] - 5s 86ms/step - loss: 8.1831e-04\n",
      "Epoch 22/30\n",
      "57/57 [==============================] - 6s 108ms/step - loss: 7.3784e-04\n",
      "Epoch 23/30\n",
      "57/57 [==============================] - 5s 85ms/step - loss: 7.3621e-04\n",
      "Epoch 24/30\n",
      "57/57 [==============================] - 5s 87ms/step - loss: 7.8419e-04\n",
      "Epoch 25/30\n",
      "57/57 [==============================] - 5s 81ms/step - loss: 6.8230e-04\n",
      "Epoch 26/30\n",
      "57/57 [==============================] - 4s 66ms/step - loss: 6.3449e-04\n",
      "Epoch 27/30\n",
      "57/57 [==============================] - 4s 76ms/step - loss: 7.1370e-04\n",
      "Epoch 28/30\n",
      "57/57 [==============================] - 6s 104ms/step - loss: 6.9906e-04\n",
      "Epoch 29/30\n",
      "57/57 [==============================] - 5s 90ms/step - loss: 7.1228e-04\n",
      "Epoch 30/30\n",
      "57/57 [==============================] - 5s 84ms/step - loss: 5.9249e-04\n"
     ]
    },
    {
     "data": {
      "text/plain": [
       "<keras.callbacks.History at 0x178c0466070>"
      ]
     },
     "execution_count": 28,
     "metadata": {},
     "output_type": "execute_result"
    }
   ],
   "source": [
    "model.fit(X_train,y_train,epochs = 30,batch_size = 35)"
   ]
  },
  {
   "cell_type": "markdown",
   "id": "1808b259",
   "metadata": {},
   "source": [
    "## Creating test data set"
   ]
  },
  {
   "cell_type": "code",
   "execution_count": 29,
   "id": "daf689e4",
   "metadata": {},
   "outputs": [],
   "source": [
    "test_set = pd.read_csv('https://raw.githubusercontent.com/mwitiderrick/stockprice/master/NSE-TATAGLOBAL.csv')\n",
    "real_stock = test_set.iloc[:,1:2].values"
   ]
  },
  {
   "cell_type": "code",
   "execution_count": 30,
   "id": "49f39db5",
   "metadata": {},
   "outputs": [
    {
     "data": {
      "text/plain": [
       "array([[234.05],\n",
       "       [234.55],\n",
       "       [240.  ],\n",
       "       ...,\n",
       "       [121.8 ],\n",
       "       [120.3 ],\n",
       "       [122.1 ]])"
      ]
     },
     "execution_count": 30,
     "metadata": {},
     "output_type": "execute_result"
    }
   ],
   "source": [
    "real_stock"
   ]
  },
  {
   "cell_type": "code",
   "execution_count": 31,
   "id": "54f59958",
   "metadata": {},
   "outputs": [],
   "source": [
    "total_dataset = pd.concat((training_dataset['Open'],test_set['Open']),axis = 1)"
   ]
  },
  {
   "cell_type": "code",
   "execution_count": 32,
   "id": "7c303f3d",
   "metadata": {},
   "outputs": [
    {
     "data": {
      "text/html": [
       "<div>\n",
       "<style scoped>\n",
       "    .dataframe tbody tr th:only-of-type {\n",
       "        vertical-align: middle;\n",
       "    }\n",
       "\n",
       "    .dataframe tbody tr th {\n",
       "        vertical-align: top;\n",
       "    }\n",
       "\n",
       "    .dataframe thead th {\n",
       "        text-align: right;\n",
       "    }\n",
       "</style>\n",
       "<table border=\"1\" class=\"dataframe\">\n",
       "  <thead>\n",
       "    <tr style=\"text-align: right;\">\n",
       "      <th></th>\n",
       "      <th>Open</th>\n",
       "      <th>Open</th>\n",
       "    </tr>\n",
       "  </thead>\n",
       "  <tbody>\n",
       "    <tr>\n",
       "      <th>0</th>\n",
       "      <td>234.05</td>\n",
       "      <td>234.05</td>\n",
       "    </tr>\n",
       "    <tr>\n",
       "      <th>1</th>\n",
       "      <td>234.55</td>\n",
       "      <td>234.55</td>\n",
       "    </tr>\n",
       "    <tr>\n",
       "      <th>2</th>\n",
       "      <td>240.00</td>\n",
       "      <td>240.00</td>\n",
       "    </tr>\n",
       "    <tr>\n",
       "      <th>3</th>\n",
       "      <td>233.30</td>\n",
       "      <td>233.30</td>\n",
       "    </tr>\n",
       "    <tr>\n",
       "      <th>4</th>\n",
       "      <td>233.55</td>\n",
       "      <td>233.55</td>\n",
       "    </tr>\n",
       "  </tbody>\n",
       "</table>\n",
       "</div>"
      ],
      "text/plain": [
       "     Open    Open\n",
       "0  234.05  234.05\n",
       "1  234.55  234.55\n",
       "2  240.00  240.00\n",
       "3  233.30  233.30\n",
       "4  233.55  233.55"
      ]
     },
     "execution_count": 32,
     "metadata": {},
     "output_type": "execute_result"
    }
   ],
   "source": [
    "total_dataset.head()"
   ]
  },
  {
   "cell_type": "code",
   "execution_count": 33,
   "id": "34247aa8",
   "metadata": {},
   "outputs": [],
   "source": [
    "inputs = total_dataset[len(total_dataset) - len(test_set) - prediction_days:].values\n"
   ]
  },
  {
   "cell_type": "code",
   "execution_count": 34,
   "id": "1ffe6b8f",
   "metadata": {},
   "outputs": [],
   "source": [
    "inputs = inputs.reshape(-1,1)\n",
    "inputs = scaler.transform(inputs)\n"
   ]
  },
  {
   "cell_type": "code",
   "execution_count": 35,
   "id": "ca00f902",
   "metadata": {},
   "outputs": [
    {
     "data": {
      "text/plain": [
       "array([[0.19730392],\n",
       "       [0.19730392],\n",
       "       [0.2064951 ],\n",
       "       [0.2064951 ],\n",
       "       [0.20077614],\n",
       "       [0.20077614],\n",
       "       [0.22017974],\n",
       "       [0.22017974],\n",
       "       [0.21772876],\n",
       "       [0.21772876],\n",
       "       [0.20812908],\n",
       "       [0.20812908],\n",
       "       [0.21875   ],\n",
       "       [0.21875   ],\n",
       "       [0.21875   ],\n",
       "       [0.21875   ],\n",
       "       [0.21977124],\n",
       "       [0.21977124],\n",
       "       [0.20077614],\n",
       "       [0.20077614],\n",
       "       [0.19219771],\n",
       "       [0.19219771],\n",
       "       [0.17994281],\n",
       "       [0.17994281],\n",
       "       [0.17749183],\n",
       "       [0.17749183],\n",
       "       [0.16482843],\n",
       "       [0.16482843],\n",
       "       [0.1689134 ],\n",
       "       [0.1689134 ],\n",
       "       [0.17299837],\n",
       "       [0.17299837],\n",
       "       [0.17830882],\n",
       "       [0.17830882],\n",
       "       [0.18545752],\n",
       "       [0.18545752],\n",
       "       [0.17361111],\n",
       "       [0.17361111],\n",
       "       [0.16605392],\n",
       "       [0.16605392],\n",
       "       [0.17177288],\n",
       "       [0.17177288],\n",
       "       [0.17810458],\n",
       "       [0.17810458],\n",
       "       [0.16973039],\n",
       "       [0.16973039],\n",
       "       [0.17095588],\n",
       "       [0.17095588],\n",
       "       [0.17585784],\n",
       "       [0.17585784],\n",
       "       [0.17933007],\n",
       "       [0.17933007],\n",
       "       [0.18464052],\n",
       "       [0.18464052],\n",
       "       [0.1942402 ],\n",
       "       [0.1942402 ],\n",
       "       [0.19097222],\n",
       "       [0.19097222],\n",
       "       [0.19219771],\n",
       "       [0.19219771],\n",
       "       [0.17585784],\n",
       "       [0.17585784],\n",
       "       [0.17279412],\n",
       "       [0.17279412],\n",
       "       [0.16973039],\n",
       "       [0.16973039],\n",
       "       [0.17667484],\n",
       "       [0.17667484],\n",
       "       [0.16625817],\n",
       "       [0.16625817],\n",
       "       [0.14726307],\n",
       "       [0.14726307],\n",
       "       [0.15461601],\n",
       "       [0.15461601],\n",
       "       [0.15543301],\n",
       "       [0.15543301],\n",
       "       [0.15216503],\n",
       "       [0.15216503],\n",
       "       [0.1431781 ],\n",
       "       [0.1431781 ],\n",
       "       [0.15318627],\n",
       "       [0.15318627],\n",
       "       [0.13500817],\n",
       "       [0.13500817],\n",
       "       [0.12683824],\n",
       "       [0.12683824],\n",
       "       [0.1186683 ],\n",
       "       [0.1186683 ],\n",
       "       [0.11928105],\n",
       "       [0.11928105],\n",
       "       [0.12642974],\n",
       "       [0.12642974],\n",
       "       [0.14297386],\n",
       "       [0.14297386],\n",
       "       [0.13255719],\n",
       "       [0.13255719],\n",
       "       [0.1309232 ],\n",
       "       [0.1309232 ],\n",
       "       [0.13398693],\n",
       "       [0.13398693],\n",
       "       [0.13051471],\n",
       "       [0.13051471],\n",
       "       [0.12683824],\n",
       "       [0.12683824],\n",
       "       [0.13541667],\n",
       "       [0.13541667],\n",
       "       [0.14726307],\n",
       "       [0.14726307],\n",
       "       [0.15339052],\n",
       "       [0.15339052],\n",
       "       [0.15257353],\n",
       "       [0.15257353],\n",
       "       [0.14848856],\n",
       "       [0.14848856],\n",
       "       [0.14522059],\n",
       "       [0.14522059],\n",
       "       [0.12888072],\n",
       "       [0.12888072],\n",
       "       [0.15134804],\n",
       "       [0.15134804],\n",
       "       [0.14971405],\n",
       "       [0.14971405],\n",
       "       [0.15992647],\n",
       "       [0.15992647],\n",
       "       [0.16687092],\n",
       "       [0.16687092],\n",
       "       [0.16074346],\n",
       "       [0.16074346],\n",
       "       [0.16809641],\n",
       "       [0.16809641]])"
      ]
     },
     "execution_count": 35,
     "metadata": {},
     "output_type": "execute_result"
    }
   ],
   "source": [
    "inputs"
   ]
  },
  {
   "cell_type": "code",
   "execution_count": 36,
   "id": "31a0e45e",
   "metadata": {},
   "outputs": [
    {
     "data": {
      "text/plain": [
       "130"
      ]
     },
     "execution_count": 36,
     "metadata": {},
     "output_type": "execute_result"
    }
   ],
   "source": [
    "len(inputs)"
   ]
  },
  {
   "cell_type": "code",
   "execution_count": 37,
   "id": "05b9ddec",
   "metadata": {},
   "outputs": [],
   "source": [
    "X_test=[]"
   ]
  },
  {
   "cell_type": "code",
   "execution_count": 38,
   "id": "00c1763a",
   "metadata": {},
   "outputs": [],
   "source": [
    "for x in range(prediction_days,len(inputs)):\n",
    "    X_test.append(inputs[x-prediction_days:x,0])\n",
    "X_test = np.array(X_test)\n",
    "X_test = np.reshape(X_test, newshape = (X_test.shape[0],X_test.shape[1], 1))  \n",
    "                        \n",
    "    \n"
   ]
  },
  {
   "cell_type": "markdown",
   "id": "a279b0df",
   "metadata": {},
   "source": [
    "## Predicting the stcok prices "
   ]
  },
  {
   "cell_type": "code",
   "execution_count": 39,
   "id": "bfe5906a",
   "metadata": {},
   "outputs": [
    {
     "name": "stdout",
     "output_type": "stream",
     "text": [
      "3/3 [==============================] - 4s 15ms/step\n"
     ]
    }
   ],
   "source": [
    "predicted_stock_price = model.predict(X_test)"
   ]
  },
  {
   "cell_type": "code",
   "execution_count": 40,
   "id": "30c6376e",
   "metadata": {},
   "outputs": [
    {
     "data": {
      "text/plain": [
       "array([[0.18151739],\n",
       "       [0.18052533],\n",
       "       [0.18236014],\n",
       "       [0.18493351],\n",
       "       [0.18337998],\n",
       "       [0.18004012],\n",
       "       [0.17116813],\n",
       "       [0.162375  ],\n",
       "       [0.15934756],\n",
       "       [0.16034299],\n",
       "       [0.16278258],\n",
       "       [0.1647479 ],\n",
       "       [0.16459438],\n",
       "       [0.16336839],\n",
       "       [0.15928346],\n",
       "       [0.15507206],\n",
       "       [0.15561652],\n",
       "       [0.15852281],\n",
       "       [0.15545991],\n",
       "       [0.14997591],\n",
       "       [0.14299014],\n",
       "       [0.13766226],\n",
       "       [0.13246919],\n",
       "       [0.12879339],\n",
       "       [0.1272442 ],\n",
       "       [0.12710297],\n",
       "       [0.1297198 ],\n",
       "       [0.13274576],\n",
       "       [0.13990346],\n",
       "       [0.14687324],\n",
       "       [0.14773525],\n",
       "       [0.14512363],\n",
       "       [0.14166155],\n",
       "       [0.13926318],\n",
       "       [0.13931918],\n",
       "       [0.14060745],\n",
       "       [0.14080802],\n",
       "       [0.14024241],\n",
       "       [0.138386  ],\n",
       "       [0.1364825 ],\n",
       "       [0.13798432],\n",
       "       [0.14079192],\n",
       "       [0.14676207],\n",
       "       [0.15233913],\n",
       "       [0.15752207],\n",
       "       [0.1608847 ],\n",
       "       [0.16201085],\n",
       "       [0.16182402],\n",
       "       [0.15998936],\n",
       "       [0.15806718],\n",
       "       [0.15590729],\n",
       "       [0.15436831],\n",
       "       [0.14851673],\n",
       "       [0.14218022],\n",
       "       [0.14519489],\n",
       "       [0.15223688],\n",
       "       [0.157559  ],\n",
       "       [0.15980329],\n",
       "       [0.1631061 ],\n",
       "       [0.16620591],\n",
       "       [0.17031056],\n",
       "       [0.17368686],\n",
       "       [0.17360017],\n",
       "       [0.17186928],\n",
       "       [0.1726011 ]], dtype=float32)"
      ]
     },
     "execution_count": 40,
     "metadata": {},
     "output_type": "execute_result"
    }
   ],
   "source": [
    "predicted_stock_price"
   ]
  },
  {
   "cell_type": "code",
   "execution_count": 41,
   "id": "46cd2bda",
   "metadata": {},
   "outputs": [],
   "source": [
    "predicted_stock_price = scaler.inverse_transform(predicted_stock_price)"
   ]
  },
  {
   "cell_type": "code",
   "execution_count": 42,
   "id": "c88b777c",
   "metadata": {},
   "outputs": [
    {
     "data": {
      "text/plain": [
       "array([[125.38545 ],\n",
       "       [125.14259 ],\n",
       "       [125.59176 ],\n",
       "       [126.22172 ],\n",
       "       [125.84141 ],\n",
       "       [125.02382 ],\n",
       "       [122.85196 ],\n",
       "       [120.6994  ],\n",
       "       [119.95828 ],\n",
       "       [120.201965],\n",
       "       [120.79918 ],\n",
       "       [121.28028 ],\n",
       "       [121.24271 ],\n",
       "       [120.94258 ],\n",
       "       [119.94259 ],\n",
       "       [118.911644],\n",
       "       [119.04492 ],\n",
       "       [119.756386],\n",
       "       [119.006584],\n",
       "       [117.6641  ],\n",
       "       [115.95399 ],\n",
       "       [114.64972 ],\n",
       "       [113.378456],\n",
       "       [112.47862 ],\n",
       "       [112.09938 ],\n",
       "       [112.064804],\n",
       "       [112.70541 ],\n",
       "       [113.44616 ],\n",
       "       [115.198364],\n",
       "       [116.90457 ],\n",
       "       [117.115585],\n",
       "       [116.476265],\n",
       "       [115.628746],\n",
       "       [115.041626],\n",
       "       [115.055336],\n",
       "       [115.370705],\n",
       "       [115.4198  ],\n",
       "       [115.28134 ],\n",
       "       [114.82689 ],\n",
       "       [114.360916],\n",
       "       [114.72856 ],\n",
       "       [115.41586 ],\n",
       "       [116.87736 ],\n",
       "       [118.24262 ],\n",
       "       [119.5114  ],\n",
       "       [120.33457 ],\n",
       "       [120.61025 ],\n",
       "       [120.56452 ],\n",
       "       [120.115395],\n",
       "       [119.644844],\n",
       "       [119.116104],\n",
       "       [118.739365],\n",
       "       [117.30689 ],\n",
       "       [115.755714],\n",
       "       [116.493706],\n",
       "       [118.21759 ],\n",
       "       [119.52045 ],\n",
       "       [120.06984 ],\n",
       "       [120.87837 ],\n",
       "       [121.63721 ],\n",
       "       [122.64202 ],\n",
       "       [123.468544],\n",
       "       [123.44731 ],\n",
       "       [123.0236  ],\n",
       "       [123.20275 ]], dtype=float32)"
      ]
     },
     "execution_count": 42,
     "metadata": {},
     "output_type": "execute_result"
    }
   ],
   "source": [
    "predicted_stock_price"
   ]
  },
  {
   "cell_type": "code",
   "execution_count": 43,
   "id": "a1b16c1c",
   "metadata": {},
   "outputs": [
    {
     "name": "stderr",
     "output_type": "stream",
     "text": [
      "No artists with labels found to put in legend.  Note that artists whose label start with an underscore are ignored when legend() is called with no argument.\n"
     ]
    },
    {
     "data": {
      "image/png": "[encoded data removed]",
      "text/plain": [
       "<Figure size 432x288 with 1 Axes>"
      ]
     },
     "metadata": {
      "needs_background": "light"
     },
     "output_type": "display_data"
    }
   ],
   "source": [
    "plt.plot(real_stock, color = 'green')\n",
    "plt.plot(predicted_stock_price, color = 'red')\n",
    "plt.xlabel('Time')\n",
    "plt.ylabel('Stock_Price')\n",
    "plt.legend()\n",
    "plt.show()"
   ]
  },
  {
   "cell_type": "code",
   "execution_count": null,
   "id": "261a574b",
   "metadata": {},
   "outputs": [],
   "source": []
  }
 ],
 "metadata": {
  "kernelspec": {
   "display_name": "Python 3 (ipykernel)",
   "language": "python",
   "name": "python3"
  },
  "language_info": {
   "codemirror_mode": {
    "name": "ipython",
    "version": 3
   },
   "file_extension": ".py",
   "mimetype": "text/x-python",
   "name": "python",
   "nbconvert_exporter": "python",
   "pygments_lexer": "ipython3",
   "version": "3.9.12"
  }
 },
 "nbformat": 4,
 "nbformat_minor": 5
}
